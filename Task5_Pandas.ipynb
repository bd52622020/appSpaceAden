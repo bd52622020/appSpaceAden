{
 "cells": [
  {
   "cell_type": "code",
   "execution_count": 9,
   "metadata": {},
   "outputs": [],
   "source": [
    "import pandas as pd\n",
    "from datetime import datetime\n",
    "import numpy as np"
   ]
  },
  {
   "cell_type": "code",
   "execution_count": 10,
   "metadata": {
    "scrolled": true
   },
   "outputs": [],
   "source": [
    "path_ratings = \"/home/codebind/movieLens/data/ml-100k/u.data\"\n",
    "path_movies = \"/home/codebind/movieLens/data/ml-100k/u.item\"\n",
    "path_users = \"/home/codebind/movieLens/data/ml-100k/u.user\"\n",
    "\n",
    "ratings_data = pd.read_csv(path_ratings, sep = '\\t', header = None)\n",
    "movies_data = pd.read_csv(path_movies, sep = '|', header = None, engine = 'python', encoding =\"iso-8859-1\")\n",
    "users_data = pd.read_csv(path_users, sep = '|', header = None)"
   ]
  },
  {
   "cell_type": "code",
   "execution_count": 11,
   "metadata": {},
   "outputs": [],
   "source": [
    "movies_header= [\"Movie Id\", \"Movie Title\", \"Release Date\", \"Video Release Date\",\n",
    "                  \"IMBd Url\", \"unknown\", \"Action\", \"Adventure\", \"Animation\",\n",
    "                   \"Childen's\", \"Comedy\", \"Crime\", \"Documentary\", \"Drama\", \"Fantasy\",\n",
    "                   \"Film-Noir\", \"Horror\", \"Musical\", \"Mystery\", \"Romance\", \"Sci-fi\",\n",
    "                   \"Thriller\", \"War\", \"Western\"]\n",
    "ratings_header= [\"User Id\", \"Movie Id\", \"Rating\", \"Timestamp\"]\n",
    "users_header= [\"User Id\", \"Age\", \"Gender\", \"Occupation\", \"Zip Code\"]"
   ]
  },
  {
   "cell_type": "code",
   "execution_count": 12,
   "metadata": {},
   "outputs": [],
   "source": [
    "ratings_data.columns = ratings_header\n",
    "movies_data.columns = movies_header\n",
    "users_data.columns = users_header"
   ]
  },
  {
   "cell_type": "markdown",
   "metadata": {},
   "source": [
    "# Print top 10 movies  that recieved most ratings sort by number of ratings"
   ]
  },
  {
   "cell_type": "code",
   "execution_count": 16,
   "metadata": {
    "collapsed": true
   },
   "outputs": [
    {
     "data": {
      "text/html": [
       "<div>\n",
       "<style scoped>\n",
       "    .dataframe tbody tr th:only-of-type {\n",
       "        vertical-align: middle;\n",
       "    }\n",
       "\n",
       "    .dataframe tbody tr th {\n",
       "        vertical-align: top;\n",
       "    }\n",
       "\n",
       "    .dataframe thead th {\n",
       "        text-align: right;\n",
       "    }\n",
       "</style>\n",
       "<table border=\"1\" class=\"dataframe\">\n",
       "  <thead>\n",
       "    <tr style=\"text-align: right;\">\n",
       "      <th></th>\n",
       "      <th>Movie Id</th>\n",
       "      <th>Rating</th>\n",
       "      <th>Movie Title</th>\n",
       "    </tr>\n",
       "  </thead>\n",
       "  <tbody>\n",
       "    <tr>\n",
       "      <th>0</th>\n",
       "      <td>50</td>\n",
       "      <td>583</td>\n",
       "      <td>Star Wars (1977)</td>\n",
       "    </tr>\n",
       "    <tr>\n",
       "      <th>1</th>\n",
       "      <td>258</td>\n",
       "      <td>509</td>\n",
       "      <td>Contact (1997)</td>\n",
       "    </tr>\n",
       "    <tr>\n",
       "      <th>2</th>\n",
       "      <td>100</td>\n",
       "      <td>508</td>\n",
       "      <td>Fargo (1996)</td>\n",
       "    </tr>\n",
       "    <tr>\n",
       "      <th>3</th>\n",
       "      <td>181</td>\n",
       "      <td>507</td>\n",
       "      <td>Return of the Jedi (1983)</td>\n",
       "    </tr>\n",
       "    <tr>\n",
       "      <th>4</th>\n",
       "      <td>294</td>\n",
       "      <td>485</td>\n",
       "      <td>Liar Liar (1997)</td>\n",
       "    </tr>\n",
       "    <tr>\n",
       "      <th>5</th>\n",
       "      <td>286</td>\n",
       "      <td>481</td>\n",
       "      <td>English Patient, The (1996)</td>\n",
       "    </tr>\n",
       "    <tr>\n",
       "      <th>6</th>\n",
       "      <td>288</td>\n",
       "      <td>478</td>\n",
       "      <td>Scream (1996)</td>\n",
       "    </tr>\n",
       "    <tr>\n",
       "      <th>7</th>\n",
       "      <td>1</td>\n",
       "      <td>452</td>\n",
       "      <td>Toy Story (1995)</td>\n",
       "    </tr>\n",
       "    <tr>\n",
       "      <th>8</th>\n",
       "      <td>300</td>\n",
       "      <td>431</td>\n",
       "      <td>Air Force One (1997)</td>\n",
       "    </tr>\n",
       "    <tr>\n",
       "      <th>9</th>\n",
       "      <td>121</td>\n",
       "      <td>429</td>\n",
       "      <td>Independence Day (ID4) (1996)</td>\n",
       "    </tr>\n",
       "  </tbody>\n",
       "</table>\n",
       "</div>"
      ],
      "text/plain": [
       "   Movie Id  Rating                    Movie Title\n",
       "0        50     583               Star Wars (1977)\n",
       "1       258     509                 Contact (1997)\n",
       "2       100     508                   Fargo (1996)\n",
       "3       181     507      Return of the Jedi (1983)\n",
       "4       294     485               Liar Liar (1997)\n",
       "5       286     481    English Patient, The (1996)\n",
       "6       288     478                  Scream (1996)\n",
       "7         1     452               Toy Story (1995)\n",
       "8       300     431           Air Force One (1997)\n",
       "9       121     429  Independence Day (ID4) (1996)"
      ]
     },
     "execution_count": 16,
     "metadata": {},
     "output_type": "execute_result"
    }
   ],
   "source": [
    "movies = movies_data[[\"Movie Id\", \"Movie Title\"]]\n",
    "group = ratings_data[[\"Movie Id\", \"Rating\"]].groupby(\"Movie Id\")\n",
    "mostRatings= group.count().nlargest(10,\"Rating\")\n",
    "pd.merge(mostRatings, movies, on=\"Movie Id\")"
   ]
  },
  {
   "cell_type": "markdown",
   "metadata": {},
   "source": [
    "# Print a  list of the number of ratings by each genre"
   ]
  },
  {
   "cell_type": "code",
   "execution_count": 21,
   "metadata": {},
   "outputs": [
    {
     "data": {
      "text/plain": [
       "unknown           10\n",
       "Action         25589\n",
       "Adventure      13753\n",
       "Animation       3605\n",
       "Childen's       7182\n",
       "Comedy         29832\n",
       "Crime           8055\n",
       "Documentary      758\n",
       "Drama          39895\n",
       "Fantasy         1352\n",
       "Film-Noir       1733\n",
       "Horror          5317\n",
       "Musical         4954\n",
       "Mystery         5245\n",
       "Romance        19461\n",
       "Sci-fi         12730\n",
       "Thriller       21872\n",
       "War             9398\n",
       "Western         1854\n",
       "dtype: int64"
      ]
     },
     "execution_count": 21,
     "metadata": {},
     "output_type": "execute_result"
    }
   ],
   "source": [
    "merged = pd.merge(ratings_data, movies_data, left_on=\"Movie Id\", right_on=\"Movie Id\").reindex()\n",
    "merged[merged.columns[8:]].sum()"
   ]
  },
  {
   "cell_type": "markdown",
   "metadata": {},
   "source": [
    "# Print the oldest movie with a \"5\" rating"
   ]
  },
  {
   "cell_type": "code",
   "execution_count": 28,
   "metadata": {},
   "outputs": [
    {
     "name": "stdout",
     "output_type": "stream",
     "text": [
      "Nosferatu (Nosferatu, eine Symphonie des Grauens) (1922)\n"
     ]
    }
   ],
   "source": [
    "ratings = ratings_data[[\"Movie Id\", \"Rating\"]]\n",
    "merged = pd.merge(ratings, movies_data, left_on=\"Movie Id\", right_on=\"Movie Id\").reindex()\n",
    "merged= merged[[\"Movie Id\",\"Movie Title\",\"Rating\", \"Release Date\"]]\n",
    "merged=merged.loc[merged[\"Rating\"]==5]\n",
    "merged[\"Release Date\"]=pd.to_datetime(merged[\"Release Date\"])\n",
    "merged= merged.sort_values(by=\"Release Date\")\n",
    "print(merged[\"Movie Title\"].iloc[1])"
   ]
  },
  {
   "cell_type": "markdown",
   "metadata": {},
   "source": [
    "# Print a list of  the genres of the top 10 most rated movies"
   ]
  },
  {
   "cell_type": "code",
   "execution_count": 39,
   "metadata": {
    "scrolled": false
   },
   "outputs": [
    {
     "name": "stdout",
     "output_type": "stream",
     "text": [
      "Star Wars (1977)               genres: Action,Adventure,Romance,Sci-fi,War\n",
      "Contact (1997)                 genres: Drama,Sci-fi\n",
      "Fargo (1996)                   genres: Crime,Drama,Thriller\n",
      "Return of the Jedi (1983)      genres: Action,Adventure,Romance,Sci-fi,War\n",
      "Liar Liar (1997)               genres: Comedy\n",
      "English Patient, The (1996)    genres: Drama,Romance,War\n",
      "Scream (1996)                  genres: Horror,Thriller\n",
      "Toy Story (1995)               genres: Animation,Childen's,Comedy\n",
      "Air Force One (1997)           genres: Action,Thriller\n",
      "Independence Day (ID4) (1996)  genres: Action,Sci-fi,War\n"
     ]
    }
   ],
   "source": [
    "merged=pd.merge(mostRatings, movies_data,left_on=\"Movie Id\", right_on=\"Movie Id\")\n",
    "genres= merged.loc[:,\"unknown\":\"Western\"]\n",
    "merged[\"Genres\"]= 1\n",
    "\n",
    "movies= ratings_data[\"Movie Id\"].value_counts().index[:10]\n",
    "for i in movies:\n",
    "    title= movies_data[movies_data[\"Movie Id\"]== i][\"Movie Title\"].values[0]\n",
    "    genres= movies_data[movies_data[\"Movie Id\"]==i].iloc[:,5:]\n",
    "    list= genres.columns[(genres ==1).values[0]]\n",
    "    print(\"{:30} genres: {}\" .format(title, \",\".join(list)))"
   ]
  },
  {
   "cell_type": "markdown",
   "metadata": {},
   "source": [
    "# Print the title of the movie that was rated the most by students"
   ]
  },
  {
   "cell_type": "code",
   "execution_count": 44,
   "metadata": {
    "scrolled": true
   },
   "outputs": [
    {
     "data": {
      "text/plain": [
       "582    Romeo Is Bleeding (1993)\n",
       "Name: Movie Title, dtype: object"
      ]
     },
     "execution_count": 44,
     "metadata": {},
     "output_type": "execute_result"
    }
   ],
   "source": [
    "students= users_data.loc[users_data[\"Occupation\"]==\"student\"][\"User Id\"]\n",
    "ratings=ratings_data[ratings_data[\"User Id\"].isin(students)]\n",
    "movie=int(ratings_data[\"Movie Id\"].value_counts().head(1))\n",
    "movies_data.loc[movies_data[\"Movie Id\"]== movie][\"Movie Title\"]"
   ]
  },
  {
   "cell_type": "markdown",
   "metadata": {},
   "source": [
    "# Print the list of movies that recieved the highest numbber of \"5\" rating"
   ]
  },
  {
   "cell_type": "code",
   "execution_count": 45,
   "metadata": {},
   "outputs": [
    {
     "name": "stdout",
     "output_type": "stream",
     "text": [
      "Star Wars (1977)\n",
      "Fargo (1996)\n",
      "Godfather, The (1972)\n",
      "Raiders of the Lost Ark (1981)\n",
      "Pulp Fiction (1994)\n",
      "Schindler's List (1993)\n",
      "Silence of the Lambs, The (1991)\n",
      "Titanic (1997)\n",
      "Empire Strikes Back, The (1980)\n",
      "Return of the Jedi (1983)\n"
     ]
    }
   ],
   "source": [
    "highest5= ratings_data.loc[ratings_data[\"Rating\"]==5][\"Movie Id\"].value_counts().index\n",
    "for i in highest5[:10]:\n",
    "    print(movies_data[movies_data[\"Movie Id\"]== i][\"Movie Title\"].values[0])"
   ]
  },
  {
   "cell_type": "markdown",
   "metadata": {},
   "source": [
    "# Print list of zip codes correspond to the highest number of users that rated movies"
   ]
  },
  {
   "cell_type": "code",
   "execution_count": 53,
   "metadata": {
    "scrolled": false
   },
   "outputs": [
    {
     "name": "stdout",
     "output_type": "stream",
     "text": [
      "Zip Code\n",
      "55414    9\n",
      "55105    6\n",
      "10003    5\n",
      "20009    5\n",
      "55337    5\n",
      "27514    4\n",
      "55408    4\n",
      "55454    4\n",
      "02215    3\n",
      "10021    3\n",
      "Name: User Id, dtype: int64\n"
     ]
    }
   ],
   "source": [
    "user= set(ratings_data[\"User Id\"])\n",
    "rated_user= users_data[users_data[\"User Id\"].isin(user)]\n",
    "group= rated_user.groupby (\"Zip Code\")[\"User Id\"].count()\n",
    "zip= group.nlargest(10)\n",
    "print(zip)"
   ]
  },
  {
   "cell_type": "markdown",
   "metadata": {},
   "source": [
    "# Find the most rated movie by users in the age group 20 to 25"
   ]
  },
  {
   "cell_type": "code",
   "execution_count": 55,
   "metadata": {},
   "outputs": [
    {
     "name": "stdout",
     "output_type": "stream",
     "text": [
      "287    Scream (1996)\n",
      "Name: Movie Title, dtype: object\n"
     ]
    }
   ],
   "source": [
    "users = users_data[users_data[\"Age\"].between(20,25)]\n",
    "user_id= users[\"User Id\"]\n",
    "ratings= ratings_data[ratings_data[\"User Id\"].isin(user_id)]\n",
    "movie_id= ratings[\"Movie Id\"].value_counts().index[0]\n",
    "movie= movies_data[movies_data[\"Movie Id\"]==movie_id][\"Movie Title\"]\n",
    "print(movie)"
   ]
  },
  {
   "cell_type": "markdown",
   "metadata": {},
   "source": [
    "# Print the list of movies that were rated after year 1960"
   ]
  },
  {
   "cell_type": "code",
   "execution_count": 61,
   "metadata": {},
   "outputs": [
    {
     "ename": "AttributeError",
     "evalue": "'Series' object has no attribute 'datetime'",
     "output_type": "error",
     "traceback": [
      "\u001b[0;31m---------------------------------------------------------------------------\u001b[0m",
      "\u001b[0;31mAttributeError\u001b[0m                            Traceback (most recent call last)",
      "\u001b[0;32m<ipython-input-61-d335c66cb140>\u001b[0m in \u001b[0;36m<module>\u001b[0;34m\u001b[0m\n\u001b[1;32m      1\u001b[0m \u001b[0mratings_data\u001b[0m\u001b[0;34m[\u001b[0m\u001b[0;34m\"Date\"\u001b[0m\u001b[0;34m]\u001b[0m\u001b[0;34m=\u001b[0m \u001b[0mratings_data\u001b[0m\u001b[0;34m[\u001b[0m\u001b[0;34m\"Timestamp\"\u001b[0m\u001b[0;34m]\u001b[0m\u001b[0;34m.\u001b[0m\u001b[0mapply\u001b[0m\u001b[0;34m(\u001b[0m\u001b[0;32mlambda\u001b[0m \u001b[0mx\u001b[0m\u001b[0;34m:\u001b[0m \u001b[0mdatetime\u001b[0m\u001b[0;34m.\u001b[0m\u001b[0mfromtimestamp\u001b[0m\u001b[0;34m(\u001b[0m\u001b[0mx\u001b[0m\u001b[0;34m)\u001b[0m\u001b[0;34m)\u001b[0m\u001b[0;34m\u001b[0m\u001b[0;34m\u001b[0m\u001b[0m\n\u001b[0;32m----> 2\u001b[0;31m \u001b[0mratings\u001b[0m\u001b[0;34m=\u001b[0m \u001b[0mratings_data\u001b[0m\u001b[0;34m[\u001b[0m\u001b[0mratings_data\u001b[0m\u001b[0;34m[\u001b[0m\u001b[0;34m\"Date\"\u001b[0m\u001b[0;34m]\u001b[0m \u001b[0;34m.\u001b[0m \u001b[0mdatetime\u001b[0m\u001b[0;34m(\u001b[0m\u001b[0;36m1960\u001b[0m\u001b[0;34m,\u001b[0m\u001b[0;36m12\u001b[0m\u001b[0;34m,\u001b[0m\u001b[0;36m31\u001b[0m\u001b[0;34m)\u001b[0m\u001b[0;34m]\u001b[0m\u001b[0;34m\u001b[0m\u001b[0;34m\u001b[0m\u001b[0m\n\u001b[0m\u001b[1;32m      3\u001b[0m \u001b[0mmovie_Ids\u001b[0m\u001b[0;34m=\u001b[0m\u001b[0mratings\u001b[0m\u001b[0;34m[\u001b[0m\u001b[0;34m\"Movie Id\"\u001b[0m\u001b[0;34m]\u001b[0m\u001b[0;34m\u001b[0m\u001b[0;34m\u001b[0m\u001b[0m\n\u001b[1;32m      4\u001b[0m \u001b[0mmovies\u001b[0m\u001b[0;34m=\u001b[0m\u001b[0mmovies_data\u001b[0m\u001b[0;34m[\u001b[0m\u001b[0mmovies_data\u001b[0m\u001b[0;34m[\u001b[0m\u001b[0;34m\"Movie Id\"\u001b[0m\u001b[0;34m]\u001b[0m\u001b[0;34m.\u001b[0m\u001b[0misin\u001b[0m\u001b[0;34m(\u001b[0m\u001b[0mmovie_Ids\u001b[0m\u001b[0;34m)\u001b[0m\u001b[0;34m]\u001b[0m\u001b[0;34m\u001b[0m\u001b[0;34m\u001b[0m\u001b[0m\n\u001b[1;32m      5\u001b[0m \u001b[0mprint\u001b[0m\u001b[0;34m(\u001b[0m\u001b[0mmovies\u001b[0m\u001b[0;34m[\u001b[0m\u001b[0;34m\"Movie Title\"\u001b[0m\u001b[0;34m]\u001b[0m\u001b[0;34m[\u001b[0m\u001b[0;34m:\u001b[0m\u001b[0;36m10\u001b[0m\u001b[0;34m]\u001b[0m\u001b[0;34m)\u001b[0m\u001b[0;34m\u001b[0m\u001b[0;34m\u001b[0m\u001b[0m\n",
      "\u001b[0;32m~/.local/lib/python3.6/site-packages/pandas/core/generic.py\u001b[0m in \u001b[0;36m__getattr__\u001b[0;34m(self, name)\u001b[0m\n\u001b[1;32m   5272\u001b[0m             \u001b[0;32mif\u001b[0m \u001b[0mself\u001b[0m\u001b[0;34m.\u001b[0m\u001b[0m_info_axis\u001b[0m\u001b[0;34m.\u001b[0m\u001b[0m_can_hold_identifiers_and_holds_name\u001b[0m\u001b[0;34m(\u001b[0m\u001b[0mname\u001b[0m\u001b[0;34m)\u001b[0m\u001b[0;34m:\u001b[0m\u001b[0;34m\u001b[0m\u001b[0;34m\u001b[0m\u001b[0m\n\u001b[1;32m   5273\u001b[0m                 \u001b[0;32mreturn\u001b[0m \u001b[0mself\u001b[0m\u001b[0;34m[\u001b[0m\u001b[0mname\u001b[0m\u001b[0;34m]\u001b[0m\u001b[0;34m\u001b[0m\u001b[0;34m\u001b[0m\u001b[0m\n\u001b[0;32m-> 5274\u001b[0;31m             \u001b[0;32mreturn\u001b[0m \u001b[0mobject\u001b[0m\u001b[0;34m.\u001b[0m\u001b[0m__getattribute__\u001b[0m\u001b[0;34m(\u001b[0m\u001b[0mself\u001b[0m\u001b[0;34m,\u001b[0m \u001b[0mname\u001b[0m\u001b[0;34m)\u001b[0m\u001b[0;34m\u001b[0m\u001b[0;34m\u001b[0m\u001b[0m\n\u001b[0m\u001b[1;32m   5275\u001b[0m \u001b[0;34m\u001b[0m\u001b[0m\n\u001b[1;32m   5276\u001b[0m     \u001b[0;32mdef\u001b[0m \u001b[0m__setattr__\u001b[0m\u001b[0;34m(\u001b[0m\u001b[0mself\u001b[0m\u001b[0;34m,\u001b[0m \u001b[0mname\u001b[0m\u001b[0;34m:\u001b[0m \u001b[0mstr\u001b[0m\u001b[0;34m,\u001b[0m \u001b[0mvalue\u001b[0m\u001b[0;34m)\u001b[0m \u001b[0;34m->\u001b[0m \u001b[0;32mNone\u001b[0m\u001b[0;34m:\u001b[0m\u001b[0;34m\u001b[0m\u001b[0;34m\u001b[0m\u001b[0m\n",
      "\u001b[0;31mAttributeError\u001b[0m: 'Series' object has no attribute 'datetime'"
     ]
    }
   ],
   "source": [
    "ratings_data[\"Date\"]= ratings_data[\"Timestamp\"].apply(lambda x: datetime.fromtimestamp(x))\n",
    "ratings= ratings_data[ratings_data[\"Date\"] . datetime(1960,12,31)]\n",
    "movie_Ids=ratings[\"Movie Id\"]\n",
    "movies=movies_data[movies_data[\"Movie Id\"].isin(movie_Ids)]\n",
    "print(movies[\"Movie Title\"][:10])"
   ]
  }
 ],
 "metadata": {
  "kernelspec": {
   "display_name": "Python 3",
   "language": "python",
   "name": "python3"
  },
  "language_info": {
   "codemirror_mode": {
    "name": "ipython",
    "version": 3
   },
   "file_extension": ".py",
   "mimetype": "text/x-python",
   "name": "python",
   "nbconvert_exporter": "python",
   "pygments_lexer": "ipython3",
   "version": "3.6.9"
  }
 },
 "nbformat": 4,
 "nbformat_minor": 2
}
